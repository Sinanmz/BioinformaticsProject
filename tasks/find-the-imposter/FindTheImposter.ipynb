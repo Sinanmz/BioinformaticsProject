{
  "cells": [
    {
      "cell_type": "markdown",
      "metadata": {
        "id": "WfwA3CWhGbN4"
      },
      "source": [
        "# Final Project of Introduction to Bioinformatics\n",
        "\n",
        "## Find The Imposter - Deciphering Mysterious Sequences\n",
        "\n",
        "#### TA: Javad Razi (j.razi@outlook.com)"
      ]
    },
    {
      "cell_type": "markdown",
      "metadata": {
        "id": "Xx_Jxt-fGbN7"
      },
      "source": [
        "## Project Description: The Genomic Detective - Delving into Avian DNA with Galaxy\n",
        "\n",
        "### Overview\n",
        "\n",
        "Welcome to an exploratory journey into the world of bioinformatics, where we will delve into the DNA of flying species. This project presents a unique opportunity to unravel a genomic mystery using Galaxy, a sophisticated yet user-friendly bioinformatics platform. Your mission is to assemble a genome from short-read sequences, revealing insights into a specific DNA sequence found in various avian species. Along the way, you'll learn to navigate the complexities of genome assembly and conduct detailed BLAST searches, piecing together a puzzle millions of years in the making.\n",
        "\n",
        "### Objectives and Workflow\n",
        "\n",
        "1. **Introduction and Setup with Galaxy:**\n",
        "   - Start by exploring the Galaxy platform, designed for bioinformatics analysis. You can find a comprehensive introduction and a step-by-step guide on how to use Galaxy, including how to set up your work environment and get data into Galaxy, at the [Galaxy Project Training Network](https://training.galaxyproject.org/). This resource provides a hands-on introduction to Genomics and Galaxy, covering basic aspects like creating a new history and using the Get Data toolbox.\n",
        "\n",
        "2. **Genome Assembly:**\n",
        "   - For learning about genome assembly methods, the [Galaxy Project Training Network](https://training.galaxyproject.org/) offers a variety of resources and guides. This site provides access to a wide range of learning materials, helping users to understand the intricacies of genome assembly within the Galaxy platform.\n",
        "\n",
        "3. **Performing BLAST Searches:**\n",
        "   - To understand how to perform BLAST searches using Galaxy, the NCBI BLAST User Guide remains a crucial resource. You can access it at [NCBI's BLAST User Guide](https://www.ncbi.nlm.nih.gov/books/NBK279690/). This guide offers detailed instructions and insights into using BLAST for sequence comparison and analysis.\n",
        "\n",
        "4. **Comparative Genomics and Analysis:**\n",
        "   - Compare your findings against existing genomic data. This comparative analysis will help you shed light on the unique aspects of your assembled sequence and its significance in avian genetics.\n",
        "\n",
        "### Specific Deliverables\n",
        "\n",
        "- **Complete Code:** Submit all the code you used for assembling the genome, performing BLAST searches, and further analysis. Ensure your code is well-commented and organized for clarity.\n",
        "- **Assembled Genome Fasta File:** Provide the fasta file of the assembled genome. This should be the direct output of your assembly process.\n",
        "- **BLAST Results CSV File:** Include a CSV file with the results from your BLAST searches. This file should contain detailed information about any genomic matches found.\n",
        "- **Detailed Interpretation:** At the end of your notebook, include a thorough interpretation of your findings. Discuss the significance of the sequence within the avian genome, any similarities or differences with sequences in other species, and the potential implications of these results. Your interpretation should be grounded in the data analysis conducted."
      ]
    },
    {
      "cell_type": "code",
      "execution_count": 2,
      "metadata": {
        "colab": {
          "base_uri": "https://localhost:8080/"
        },
        "id": "odBeyhDBGbN9",
        "outputId": "fa51e237-174e-4acb-ce02-5dac5e81fa74"
      },
      "outputs": [
        {
          "output_type": "stream",
          "name": "stdout",
          "text": [
            "bioblend (1.2.0) is installed\n",
            "biopython (1.83) is installed\n",
            "pandas (1.5.3) is installed\n"
          ]
        }
      ],
      "source": [
        "import sys\n",
        "import subprocess\n",
        "import pkg_resources\n",
        "\n",
        "def install(package):\n",
        "    subprocess.check_call([sys.executable, \"-m\", \"pip\", \"install\", package])\n",
        "\n",
        "REQUIRED_PACKAGES = [\n",
        "    'bioblend',\n",
        "    'biopython',\n",
        "    'pandas'\n",
        "]\n",
        "\n",
        "for package in REQUIRED_PACKAGES:\n",
        "    try:\n",
        "        dist = pkg_resources.get_distribution(package)\n",
        "        print('{} ({}) is installed'.format(dist.key, dist.version))\n",
        "    except pkg_resources.DistributionNotFound:\n",
        "        print('{} is NOT installed'.format(package))\n",
        "        install(package)\n",
        "        print('{} was successfully installed.'.format(package))"
      ]
    },
    {
      "cell_type": "markdown",
      "metadata": {
        "id": "CvquqezTGbN_"
      },
      "source": [
        "## Part 1: Assembling Using Galaxy\n",
        "\n",
        "#### Option 1: Python Notebook\n",
        "\n",
        "Finish this section of notebook to assemble a genome from a fasta file with short-read sequences.\n",
        "\n",
        "#### Option 2: Galaxy Web Interface\n",
        "\n",
        "Alternatively, you can use the Galaxy web interface at usegalaxy.org to complete the assembly. This approach allows you to experience the ease and efficiency of Galaxy's web-based tools.\n"
      ]
    },
    {
      "cell_type": "code",
      "execution_count": 8,
      "metadata": {
        "colab": {
          "base_uri": "https://localhost:8080/"
        },
        "id": "M2_ccOzdGbN_",
        "outputId": "cb51a3da-b304-4113-a212-5221acec973d"
      },
      "outputs": [
        {
          "output_type": "stream",
          "name": "stdout",
          "text": [
            "Collecting python-dotenv\n",
            "  Downloading python_dotenv-1.0.1-py3-none-any.whl (19 kB)\n",
            "Installing collected packages: python-dotenv\n",
            "Successfully installed python-dotenv-1.0.1\n"
          ]
        }
      ],
      "source": [
        "!pip install python-dotenv"
      ]
    },
    {
      "cell_type": "code",
      "execution_count": 73,
      "metadata": {
        "id": "n3wR6EXzGbN_"
      },
      "outputs": [],
      "source": [
        "from dotenv import load_dotenv\n",
        "import os\n",
        "\n",
        "# Load environment variables from .env file\n",
        "load_dotenv(dotenv_path='./galaxy.env')\n",
        "\n",
        "# You can create your API key by registering at usegalaxy website, and from user settings section.\n",
        "# It is recommended that you store this key as an environment variable, and not expose it!\n",
        "api_key = os.getenv('0e0a1fe085de2fca1d36f3fb4f981539')"
      ]
    },
    {
      "cell_type": "code",
      "execution_count": 74,
      "metadata": {
        "id": "yqfQ2XqSGbOA"
      },
      "outputs": [],
      "source": [
        "import bioblend.galaxy\n",
        "\n",
        "# Initialize Galaxy instance\n",
        "gi = bioblend.galaxy.GalaxyInstance(url='https://usegalaxy.org', key='0e0a1fe085de2fca1d36f3fb4f981539')"
      ]
    },
    {
      "cell_type": "code",
      "execution_count": 75,
      "metadata": {
        "colab": {
          "base_uri": "https://localhost:8080/"
        },
        "id": "HNTC0iLxGbOA",
        "outputId": "eb767abf-8e19-4364-d291-c052d2228dc2"
      },
      "outputs": [
        {
          "output_type": "execute_result",
          "data": {
            "text/plain": [
              "{'outputs': [{'id': 'f9cad7b01a47213561b51abcba60bcc4',\n",
              "   'hda_ldda': 'hda',\n",
              "   'uuid': '07076d84-d293-42f3-8626-cd30086931db',\n",
              "   'hid': 1,\n",
              "   'file_ext': 'auto',\n",
              "   'peek': None,\n",
              "   'model_class': 'HistoryDatasetAssociation',\n",
              "   'name': 'short_reads.fasta',\n",
              "   'deleted': False,\n",
              "   'purged': False,\n",
              "   'visible': True,\n",
              "   'state': 'queued',\n",
              "   'history_content_type': 'dataset',\n",
              "   'file_size': 0,\n",
              "   'create_time': '2024-01-27T11:35:45.248675',\n",
              "   'update_time': '2024-01-27T11:35:45.291744',\n",
              "   'data_type': 'galaxy.datatypes.data.Data',\n",
              "   'genome_build': '?',\n",
              "   'validated_state': 'unknown',\n",
              "   'validated_state_message': None,\n",
              "   'misc_info': None,\n",
              "   'misc_blurb': None,\n",
              "   'tags': [],\n",
              "   'history_id': 'cb10237dc4dcbd58',\n",
              "   'metadata_dbkey': '?',\n",
              "   'output_name': 'output0'}],\n",
              " 'output_collections': [],\n",
              " 'jobs': [{'model_class': 'Job',\n",
              "   'id': 'bbd44e69cb8906b5e9077462d841c6ac',\n",
              "   'state': 'new',\n",
              "   'exit_code': None,\n",
              "   'update_time': '2024-01-27T11:35:45.355276',\n",
              "   'create_time': '2024-01-27T11:35:45.315669',\n",
              "   'galaxy_version': '23.2',\n",
              "   'tool_id': '__DATA_FETCH__',\n",
              "   'history_id': 'cb10237dc4dcbd58'}],\n",
              " 'implicit_collections': [],\n",
              " 'produces_entry_points': False}"
            ]
          },
          "metadata": {},
          "execution_count": 75
        }
      ],
      "source": [
        "# Upload the fasta file to Galaxy\n",
        "fasta_path = './dataset/short_reads.fasta'\n",
        "fasta_hist = gi.histories.create_history(name=\"FindTheImposterTask_Fasta\")\n",
        "fasta_dict = gi.tools.upload_file(fasta_path, fasta_hist['id'], type='fasta')\n",
        "\n",
        "fasta_dict"
      ]
    },
    {
      "cell_type": "code",
      "execution_count": 77,
      "metadata": {
        "id": "NM7y3SfcGbOA"
      },
      "outputs": [],
      "source": [
        "# Identify and Prepare the Assembly Tool\n",
        "\n",
        "# Retrieve a genome assembly tool from Galaxy's tool repository.\n",
        "# Replace 'YourToolNameHere' with the name of the assembly tool you choose.\n",
        "# Tip: Look for a tool suitable for assembling short-read sequences.\n",
        "\n",
        "### TODO ###\n",
        "assembly_tool = gi.tools.get_tools(name='SPAdes')[0]\n",
        "### TODO ###\n",
        "\n",
        "# Prepare inputs for the assembly tool\n",
        "# The parameters you set here will depend on the tool and its specific requirements\n",
        "assembly_params = {\n",
        "    # Set the mode for the assembly. Each tool might have different modes like 'careful', etc. You can analyze the web application\n",
        "    # of the galaxy to explore the options you have.\n",
        "    # Tip: Refer to the selected tool’s documentation to understand what modes are available and what each mode does.\n",
        "    'mode_sel': '--isolate'\n",
        "\n",
        "    # Specify the operation mode. Some tools allow different operations like error correction, only assembly, etc.\n",
        "    # Tip: If your tool offers different operation modes, select the one that aligns with your project requirements.\n",
        "    # we do not need to specify operation mode\n",
        "    # 'operation_mode': 'ChooseOperationModeHere',\n",
        "}\n",
        "\n",
        "# Run the Assembly Tool\n",
        "try:\n",
        "    assembly_dict = gi.tools.run_tool(fasta_hist['id'], assembly_tool['id'], assembly_params)\n",
        "except ConnectionError as e:\n",
        "    print(f\"Failed to run the assembly tool: {e}\")\n",
        "    raise\n",
        "\n",
        "# Wait for the assembly job to complete\n",
        "assembly_dict = gi.jobs.wait_for_job(job_id=assembly_dict['jobs'][0]['id'], maxwait=120, interval=5, check=True)\n"
      ]
    },
    {
      "cell_type": "code",
      "execution_count": 78,
      "metadata": {
        "colab": {
          "base_uri": "https://localhost:8080/"
        },
        "id": "MhaqjlOMGbOB",
        "outputId": "0828e9f5-f917-462e-c11c-d64454a6a600"
      },
      "outputs": [
        {
          "output_type": "execute_result",
          "data": {
            "text/plain": [
              "{'model_class': 'Job',\n",
              " 'id': 'bbd44e69cb8906b5c007e95057dbf69f',\n",
              " 'state': 'ok',\n",
              " 'exit_code': 0,\n",
              " 'update_time': '2024-01-27T11:36:46.405191',\n",
              " 'create_time': '2024-01-27T11:36:12.531735',\n",
              " 'galaxy_version': '23.2',\n",
              " 'command_version': '3.15.3',\n",
              " 'copied_from_job_id': None,\n",
              " 'tool_id': 'toolshed.g2.bx.psu.edu/repos/nml/spades/spades/3.15.3+galaxy2',\n",
              " 'history_id': 'cb10237dc4dcbd58',\n",
              " 'params': {'operation_mode': '\"\"',\n",
              "  'singlePaired': '{\"__current_case__\": 0, \"input1\": {\"values\": [{\"id\": 122106323, \"src\": \"hda\"}]}, \"sPaired\": \"single\"}',\n",
              "  'additional_reads': '{\"__current_case__\": 1, \"selector\": \"false\"}',\n",
              "  'arf': '{\"nanopore\": null, \"pacbio\": null, \"sanger\": null, \"trusted_contigs\": null, \"untrusted_contigs\": null}',\n",
              "  'mode_sel': '\"--isolate\"',\n",
              "  'cov_cond': '{\"__current_case__\": 0, \"cov_cutoff\": \"off\"}',\n",
              "  'kmer_cond': '{\"__current_case__\": 0, \"kmer_sel\": \"auto\"}',\n",
              "  'phred_offset': '\"auto\"',\n",
              "  'optional_output': '[\"ag\", \"ags\", \"cn\", \"sc\"]',\n",
              "  'chromInfo': '\"/cvmfs/data.galaxyproject.org/managed/len/ucsc/?.len\"',\n",
              "  'dbkey': '\"?\"',\n",
              "  '__input_ext': '\"input\"'},\n",
              " 'inputs': {'singlePaired|input1': {'id': 'f9cad7b01a47213561b51abcba60bcc4',\n",
              "   'src': 'hda',\n",
              "   'uuid': '07076d84-d293-42f3-8626-cd30086931db'},\n",
              "  'singlePaired|input11': {'id': 'f9cad7b01a47213561b51abcba60bcc4',\n",
              "   'src': 'hda',\n",
              "   'uuid': '07076d84-d293-42f3-8626-cd30086931db'}},\n",
              " 'outputs': {'out_ag': {'id': 'f9cad7b01a472135d2a72296ee94fce5',\n",
              "   'src': 'hda',\n",
              "   'uuid': 'ed7a6e51-f09d-4af5-8cd8-af31f31a3f9d'},\n",
              "  'out_ags': {'id': 'f9cad7b01a4721350b72bf7504429986',\n",
              "   'src': 'hda',\n",
              "   'uuid': '34a2d7c4-069a-44cd-b1e0-81de9e6c8d64'},\n",
              "  'out_cn': {'id': 'f9cad7b01a4721356730c1ed071a7af6',\n",
              "   'src': 'hda',\n",
              "   'uuid': 'a4fbb745-b6ff-4226-aca5-1159c0ae37f8'},\n",
              "  'out_sc': {'id': 'f9cad7b01a4721358a5d8162e44b3586',\n",
              "   'src': 'hda',\n",
              "   'uuid': '7daaf3f2-e0f6-4e45-a44f-bec59e7be2b7'}},\n",
              " 'output_collections': {},\n",
              " 'command_line': \"mkdir -p reads1 && ln -s '/corral4/main/objects/0/7/0/dataset_07076d84-d293-42f3-8626-cd30086931db.dat' 'reads1/short_reads.fasta.fasta' &&          spades.py  -o 'output'  -t ${GALAXY_SLOTS:-4} -m $((${GALAXY_MEMORY_MB:-8192}/1024))   --s 1 'reads1/short_reads.fasta.fasta'        --cov-cutoff off    --isolate\"}"
            ]
          },
          "metadata": {},
          "execution_count": 78
        }
      ],
      "source": [
        "assembly_dict"
      ]
    },
    {
      "cell_type": "code",
      "execution_count": 79,
      "metadata": {
        "id": "fNB6G_4eGbOB"
      },
      "outputs": [],
      "source": [
        "# Download the assembled genome from Galaxy. You can use the `download_dataset` method. A FASTA file, containing assembly\n",
        "# of the whole sequence is what we expect here.\n",
        "\n",
        "assembled_genome_dataset_id = 'f9cad7b01a4721356730c1ed071a7af6'\n",
        "\n",
        "# Download the assembled genome dataset\n",
        "assembled_genome_file = gi.datasets.download_dataset(assembled_genome_dataset_id)\n",
        "\n",
        "# Specify the path where you want to save the downloaded file\n",
        "output_file_path = './assembled_genome.fasta'\n",
        "\n",
        "# Save the downloaded file\n",
        "with open(output_file_path, 'wb') as output_file:\n",
        "    output_file.write(assembled_genome_file)"
      ]
    },
    {
      "cell_type": "markdown",
      "metadata": {
        "id": "njgL0A4UGbOC"
      },
      "source": [
        "### Part 2: Using BLAST to Query The Assembled Sequence\n",
        "\n",
        "In this part of the notebook, you will utilize the NCBI BLAST API to analyze the genome sequence you've assembled. This involves integrating the API into your notebook, submitting your sequence for BLAST querying, and then meticulously examining the results. Your focus will be on identifying similarities or unique traits in the sequence compared to others in the NCBI database, particularly exploring its relationship with known sequences in various species. This step is crucial for understanding the evolutionary and biological significance of your assembled genome.\n",
        "\n",
        "**Note**: Unlike the previous section, for this one, you must deliver the full code in the notebook. Doing this part using website will not be graded."
      ]
    },
    {
      "cell_type": "code",
      "execution_count": null,
      "metadata": {
        "id": "pqEPFX1UGbOC"
      },
      "outputs": [],
      "source": [
        "# Import necessary libraries\n",
        "from Bio.Blast import NCBIWWW\n",
        "from Bio.Blast import NCBIXML\n",
        "from collections import defaultdict\n",
        "\n"
      ]
    },
    {
      "cell_type": "code",
      "execution_count": null,
      "metadata": {
        "id": "iaFtaH3FGbOD"
      },
      "outputs": [],
      "source": [
        "# Load the assembled genome\n",
        "with open('./outputs/assembled_genome.fasta', 'r') as file:\n",
        "    assembled_genome = file.read()\n",
        "\n",
        "assembled_genome"
      ]
    },
    {
      "cell_type": "code",
      "execution_count": null,
      "metadata": {
        "id": "xuciBkHiGbOD"
      },
      "outputs": [],
      "source": [
        "from Bio.Blast import NCBIWWW\n",
        "\n",
        "# Perform the BLAST query, filtering for eukaryotes\n",
        "\n",
        "### TODO ###\n",
        "result_handle = NCBIWWW.qblast(program=None,\n",
        "                               database=None,\n",
        "                               sequence=None,\n",
        "                               entrez_query=None, # Only filter Eucaryotes. Hint: You can do this by giving their taxonomy id.\n",
        "                               hitlist_size=100,\n",
        "                               word_size=16)\n",
        "### TODO ###\n"
      ]
    },
    {
      "cell_type": "code",
      "execution_count": null,
      "metadata": {
        "id": "yezJRMewGbOD",
        "outputId": "dcd4dabc-7e83-4e3c-bea9-a5afa5f283bd"
      },
      "outputs": [
        {
          "data": {
            "text/plain": [
              "<generator object parse at 0x0000020D4D9B1540>"
            ]
          },
          "execution_count": 90,
          "metadata": {},
          "output_type": "execute_result"
        }
      ],
      "source": [
        "from Bio.Blast import NCBIXML\n",
        "\n",
        "blast_records = NCBIXML.parse(result_handle)\n",
        "\n",
        "blast_records"
      ]
    },
    {
      "cell_type": "code",
      "execution_count": null,
      "metadata": {
        "id": "eNhS4eJ0GbOE"
      },
      "outputs": [],
      "source": [
        "import pandas as pd\n",
        "from Bio import Entrez\n",
        "\n",
        "# Set your email here for Entrez\n",
        "Entrez.email = \"your.email@example.com\"\n",
        "\n",
        "def fetch_taxonomy_info(accession):\n",
        "    \"\"\"\n",
        "    Fetch taxonomy information using Entrez for a given accession number.\n",
        "    \"\"\"\n",
        "    handle = Entrez.efetch(db=\"nucleotide\", id=accession, retmode=\"xml\")\n",
        "    records = Entrez.read(handle)\n",
        "\n",
        "    ### TODO ###\n",
        "\n",
        "    taxonomy = None\n",
        "    species = None\n",
        "\n",
        "    ### TODO ###\n",
        "\n",
        "    return taxonomy, species\n",
        "\n",
        "\n",
        "def parse_blast_results():\n",
        "    \"\"\"\n",
        "    Parse BLAST results and extract relevant information including taxonomy.\n",
        "    \"\"\"\n",
        "    blast_results = []\n",
        "\n",
        "    for record in blast_records:\n",
        "        for alignment in record.alignments:\n",
        "            accession = alignment.accession\n",
        "            taxonomy, species = fetch_taxonomy_info(accession)\n",
        "            for hsp in alignment.hsps:\n",
        "                # These fields are required in your submission\n",
        "                blast_results.append({\n",
        "                    'query_id': record.query_id,\n",
        "                    'alignment_title': alignment.title,\n",
        "                    'e_value': hsp.expect,\n",
        "                    'identity': hsp.identities,\n",
        "                    'accession': accession,\n",
        "                    'taxonomy': taxonomy,\n",
        "                    'species': species\n",
        "                })\n",
        "    return blast_results\n",
        "\n",
        "\n",
        "blast_results = parse_blast_results()\n",
        "df = pd.DataFrame(blast_results)\n",
        "df.to_csv('./outputs/blast_results_with_taxonomy.csv', index=False)\n",
        "\n",
        "df.head()"
      ]
    },
    {
      "cell_type": "markdown",
      "metadata": {
        "id": "fDxTw6qIGbOE"
      },
      "source": [
        "## Analysis of The Results\n",
        "\n",
        "### Drawing Your Own Conclusions\n",
        "\n",
        "Now that you have completed the BLAST search, a fascinating part of your journey begins – interpreting the data. This stage is where your critical thinking and creativity come into play. From now on, the rest of the notebook will be about whatever you want it to be. Any path that leads to meaningful insights about the data and provides a solid conclusion for the task is acceptable. Let's explore some possible directions:\n",
        "\n",
        "1. **Species-Specific Patterns:** Examine if the sequence is found exclusively or predominantly in certain species. What could this suggest about its evolution and adaptation? While the focus is not on finding a 'correct' answer, pondering this aspect can lead to interesting hypotheses about species-specific interactions.\n",
        "\n",
        "2. **Functional Insights:** Reflect on the potential roles this sequence might play within the genomes where it's found. Could it be integral to certain biological functions, or a legacy of ancient genomic events?\n",
        "\n",
        "3. **Comparative Genomics:** Compare your findings with sequences in other species. Notice any striking similarities or differences? These comparisons could shed light on the sequence's evolutionary journey.\n",
        "\n",
        "4. **Ecological and Environmental Context:** Consider the ecological and environmental factors that might influence the distribution and evolution of this sequence. How might habitat or lifestyle of the species play a role in its presence or absence?\n",
        "\n",
        "### Additional Tips and Encouragement\n",
        "\n",
        "This project is more about the learning journey and less about achieving perfect results. Here are some additional pointers:\n",
        "\n",
        "1. **Deep Dives:** Encourage yourself to explore the data thoroughly. Use various bioinformatics tools to gain a holistic understanding.\n",
        "\n",
        "2. **Creative Visualization:** Craft visual representations of your analysis. Effective use of charts or infographics can provide insightful perspectives.\n",
        "\n",
        "3. **Open-Ended Exploration:** Feel free to extend your analysis in directions you find intriguing. This could include phylogenetic studies or exploring the ecological aspects of the sequence.\n",
        "\n",
        "Remember, this project is designed to be a learning experience. We don't expect you to uncover all the answers but rather to engage thoughtfully with the data and enjoy the process of discovery."
      ]
    },
    {
      "cell_type": "code",
      "execution_count": null,
      "metadata": {
        "id": "hP6Ct3a4GbOE"
      },
      "outputs": [],
      "source": [
        "### TODO ###"
      ]
    }
  ],
  "metadata": {
    "kernelspec": {
      "display_name": "Python 3 (ipykernel)",
      "language": "python",
      "name": "python3"
    },
    "language_info": {
      "codemirror_mode": {
        "name": "ipython",
        "version": 3
      },
      "file_extension": ".py",
      "mimetype": "text/x-python",
      "name": "python",
      "nbconvert_exporter": "python",
      "pygments_lexer": "ipython3",
      "version": "3.11.3"
    },
    "colab": {
      "provenance": []
    }
  },
  "nbformat": 4,
  "nbformat_minor": 0
}