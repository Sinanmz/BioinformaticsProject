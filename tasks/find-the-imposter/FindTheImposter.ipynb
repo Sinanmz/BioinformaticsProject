{
  "cells": [
    {
      "cell_type": "markdown",
      "metadata": {
        "id": "WfwA3CWhGbN4"
      },
      "source": [
        "# Final Project of Introduction to Bioinformatics\n",
        "\n",
        "## Find The Imposter - Deciphering Mysterious Sequences\n",
        "\n",
        "#### TA: Javad Razi (j.razi@outlook.com)"
      ]
    },
    {
      "cell_type": "markdown",
      "metadata": {
        "id": "Xx_Jxt-fGbN7"
      },
      "source": [
        "## Project Description: The Genomic Detective - Delving into Avian DNA with Galaxy\n",
        "\n",
        "### Overview\n",
        "\n",
        "Welcome to an exploratory journey into the world of bioinformatics, where we will delve into the DNA of flying species. This project presents a unique opportunity to unravel a genomic mystery using Galaxy, a sophisticated yet user-friendly bioinformatics platform. Your mission is to assemble a genome from short-read sequences, revealing insights into a specific DNA sequence found in various avian species. Along the way, you'll learn to navigate the complexities of genome assembly and conduct detailed BLAST searches, piecing together a puzzle millions of years in the making.\n",
        "\n",
        "### Objectives and Workflow\n",
        "\n",
        "1. **Introduction and Setup with Galaxy:**\n",
        "   - Start by exploring the Galaxy platform, designed for bioinformatics analysis. You can find a comprehensive introduction and a step-by-step guide on how to use Galaxy, including how to set up your work environment and get data into Galaxy, at the [Galaxy Project Training Network](https://training.galaxyproject.org/). This resource provides a hands-on introduction to Genomics and Galaxy, covering basic aspects like creating a new history and using the Get Data toolbox.\n",
        "\n",
        "2. **Genome Assembly:**\n",
        "   - For learning about genome assembly methods, the [Galaxy Project Training Network](https://training.galaxyproject.org/) offers a variety of resources and guides. This site provides access to a wide range of learning materials, helping users to understand the intricacies of genome assembly within the Galaxy platform.\n",
        "\n",
        "3. **Performing BLAST Searches:**\n",
        "   - To understand how to perform BLAST searches using Galaxy, the NCBI BLAST User Guide remains a crucial resource. You can access it at [NCBI's BLAST User Guide](https://www.ncbi.nlm.nih.gov/books/NBK279690/). This guide offers detailed instructions and insights into using BLAST for sequence comparison and analysis.\n",
        "\n",
        "4. **Comparative Genomics and Analysis:**\n",
        "   - Compare your findings against existing genomic data. This comparative analysis will help you shed light on the unique aspects of your assembled sequence and its significance in avian genetics.\n",
        "\n",
        "### Specific Deliverables\n",
        "\n",
        "- **Complete Code:** Submit all the code you used for assembling the genome, performing BLAST searches, and further analysis. Ensure your code is well-commented and organized for clarity.\n",
        "- **Assembled Genome Fasta File:** Provide the fasta file of the assembled genome. This should be the direct output of your assembly process.\n",
        "- **BLAST Results CSV File:** Include a CSV file with the results from your BLAST searches. This file should contain detailed information about any genomic matches found.\n",
        "- **Detailed Interpretation:** At the end of your notebook, include a thorough interpretation of your findings. Discuss the significance of the sequence within the avian genome, any similarities or differences with sequences in other species, and the potential implications of these results. Your interpretation should be grounded in the data analysis conducted."
      ]
    },
    {
      "cell_type": "code",
      "execution_count": 2,
      "metadata": {
        "colab": {
          "base_uri": "https://localhost:8080/"
        },
        "id": "odBeyhDBGbN9",
        "outputId": "fa51e237-174e-4acb-ce02-5dac5e81fa74"
      },
      "outputs": [
        {
          "output_type": "stream",
          "name": "stdout",
          "text": [
            "bioblend (1.2.0) is installed\n",
            "biopython (1.83) is installed\n",
            "pandas (1.5.3) is installed\n"
          ]
        }
      ],
      "source": [
        "import sys\n",
        "import subprocess\n",
        "import pkg_resources\n",
        "\n",
        "def install(package):\n",
        "    subprocess.check_call([sys.executable, \"-m\", \"pip\", \"install\", package])\n",
        "\n",
        "REQUIRED_PACKAGES = [\n",
        "    'bioblend',\n",
        "    'biopython',\n",
        "    'pandas'\n",
        "]\n",
        "\n",
        "for package in REQUIRED_PACKAGES:\n",
        "    try:\n",
        "        dist = pkg_resources.get_distribution(package)\n",
        "        print('{} ({}) is installed'.format(dist.key, dist.version))\n",
        "    except pkg_resources.DistributionNotFound:\n",
        "        print('{} is NOT installed'.format(package))\n",
        "        install(package)\n",
        "        print('{} was successfully installed.'.format(package))"
      ]
    },
    {
      "cell_type": "markdown",
      "metadata": {
        "id": "CvquqezTGbN_"
      },
      "source": [
        "## Part 1: Assembling Using Galaxy\n",
        "\n",
        "#### Option 1: Python Notebook\n",
        "\n",
        "Finish this section of notebook to assemble a genome from a fasta file with short-read sequences.\n",
        "\n",
        "#### Option 2: Galaxy Web Interface\n",
        "\n",
        "Alternatively, you can use the Galaxy web interface at usegalaxy.org to complete the assembly. This approach allows you to experience the ease and efficiency of Galaxy's web-based tools.\n"
      ]
    },
    {
      "cell_type": "code",
      "execution_count": 8,
      "metadata": {
        "colab": {
          "base_uri": "https://localhost:8080/"
        },
        "id": "M2_ccOzdGbN_",
        "outputId": "cb51a3da-b304-4113-a212-5221acec973d"
      },
      "outputs": [
        {
          "output_type": "stream",
          "name": "stdout",
          "text": [
            "Collecting python-dotenv\n",
            "  Downloading python_dotenv-1.0.1-py3-none-any.whl (19 kB)\n",
            "Installing collected packages: python-dotenv\n",
            "Successfully installed python-dotenv-1.0.1\n"
          ]
        }
      ],
      "source": [
        "!pip install python-dotenv"
      ]
    },
    {
      "cell_type": "code",
      "execution_count": 73,
      "metadata": {
        "id": "n3wR6EXzGbN_"
      },
      "outputs": [],
      "source": [
        "from dotenv import load_dotenv\n",
        "import os\n",
        "\n",
        "# Load environment variables from .env file\n",
        "load_dotenv(dotenv_path='./galaxy.env')\n",
        "\n",
        "# You can create your API key by registering at usegalaxy website, and from user settings section.\n",
        "# It is recommended that you store this key as an environment variable, and not expose it!\n",
        "api_key = os.getenv('0e0a1fe085de2fca1d36f3fb4f981539')"
      ]
    },
    {
      "cell_type": "code",
      "execution_count": 74,
      "metadata": {
        "id": "yqfQ2XqSGbOA"
      },
      "outputs": [],
      "source": [
        "import bioblend.galaxy\n",
        "\n",
        "# Initialize Galaxy instance\n",
        "gi = bioblend.galaxy.GalaxyInstance(url='https://usegalaxy.org', key='0e0a1fe085de2fca1d36f3fb4f981539')"
      ]
    },
    {
      "cell_type": "code",
      "execution_count": 75,
      "metadata": {
        "colab": {
          "base_uri": "https://localhost:8080/"
        },
        "id": "HNTC0iLxGbOA",
        "outputId": "eb767abf-8e19-4364-d291-c052d2228dc2"
      },
      "outputs": [
        {
          "output_type": "execute_result",
          "data": {
            "text/plain": [
              "{'outputs': [{'id': 'f9cad7b01a47213561b51abcba60bcc4',\n",
              "   'hda_ldda': 'hda',\n",
              "   'uuid': '07076d84-d293-42f3-8626-cd30086931db',\n",
              "   'hid': 1,\n",
              "   'file_ext': 'auto',\n",
              "   'peek': None,\n",
              "   'model_class': 'HistoryDatasetAssociation',\n",
              "   'name': 'short_reads.fasta',\n",
              "   'deleted': False,\n",
              "   'purged': False,\n",
              "   'visible': True,\n",
              "   'state': 'queued',\n",
              "   'history_content_type': 'dataset',\n",
              "   'file_size': 0,\n",
              "   'create_time': '2024-01-27T11:35:45.248675',\n",
              "   'update_time': '2024-01-27T11:35:45.291744',\n",
              "   'data_type': 'galaxy.datatypes.data.Data',\n",
              "   'genome_build': '?',\n",
              "   'validated_state': 'unknown',\n",
              "   'validated_state_message': None,\n",
              "   'misc_info': None,\n",
              "   'misc_blurb': None,\n",
              "   'tags': [],\n",
              "   'history_id': 'cb10237dc4dcbd58',\n",
              "   'metadata_dbkey': '?',\n",
              "   'output_name': 'output0'}],\n",
              " 'output_collections': [],\n",
              " 'jobs': [{'model_class': 'Job',\n",
              "   'id': 'bbd44e69cb8906b5e9077462d841c6ac',\n",
              "   'state': 'new',\n",
              "   'exit_code': None,\n",
              "   'update_time': '2024-01-27T11:35:45.355276',\n",
              "   'create_time': '2024-01-27T11:35:45.315669',\n",
              "   'galaxy_version': '23.2',\n",
              "   'tool_id': '__DATA_FETCH__',\n",
              "   'history_id': 'cb10237dc4dcbd58'}],\n",
              " 'implicit_collections': [],\n",
              " 'produces_entry_points': False}"
            ]
          },
          "metadata": {},
          "execution_count": 75
        }
      ],
      "source": [
        "# Upload the fasta file to Galaxy\n",
        "fasta_path = './dataset/short_reads.fasta'\n",
        "fasta_hist = gi.histories.create_history(name=\"FindTheImposterTask_Fasta\")\n",
        "fasta_dict = gi.tools.upload_file(fasta_path, fasta_hist['id'], type='fasta')\n",
        "\n",
        "fasta_dict"
      ]
    },
    {
      "cell_type": "code",
      "execution_count": 77,
      "metadata": {
        "id": "NM7y3SfcGbOA"
      },
      "outputs": [],
      "source": [
        "# Identify and Prepare the Assembly Tool\n",
        "\n",
        "# Retrieve a genome assembly tool from Galaxy's tool repository.\n",
        "# Replace 'YourToolNameHere' with the name of the assembly tool you choose.\n",
        "# Tip: Look for a tool suitable for assembling short-read sequences.\n",
        "\n",
        "### TODO ###\n",
        "assembly_tool = gi.tools.get_tools(name='SPAdes')[0]\n",
        "### TODO ###\n",
        "\n",
        "# Prepare inputs for the assembly tool\n",
        "# The parameters you set here will depend on the tool and its specific requirements\n",
        "assembly_params = {\n",
        "    # Set the mode for the assembly. Each tool might have different modes like 'careful', etc. You can analyze the web application\n",
        "    # of the galaxy to explore the options you have.\n",
        "    # Tip: Refer to the selected tool’s documentation to understand what modes are available and what each mode does.\n",
        "    'mode_sel': '--isolate'\n",
        "\n",
        "    # Specify the operation mode. Some tools allow different operations like error correction, only assembly, etc.\n",
        "    # Tip: If your tool offers different operation modes, select the one that aligns with your project requirements.\n",
        "    # we do not need to specify operation mode\n",
        "    # 'operation_mode': 'ChooseOperationModeHere',\n",
        "}\n",
        "\n",
        "# Run the Assembly Tool\n",
        "try:\n",
        "    assembly_dict = gi.tools.run_tool(fasta_hist['id'], assembly_tool['id'], assembly_params)\n",
        "except ConnectionError as e:\n",
        "    print(f\"Failed to run the assembly tool: {e}\")\n",
        "    raise\n",
        "\n",
        "# Wait for the assembly job to complete\n",
        "assembly_dict = gi.jobs.wait_for_job(job_id=assembly_dict['jobs'][0]['id'], maxwait=120, interval=5, check=True)\n"
      ]
    },
    {
      "cell_type": "code",
      "execution_count": 78,
      "metadata": {
        "colab": {
          "base_uri": "https://localhost:8080/"
        },
        "id": "MhaqjlOMGbOB",
        "outputId": "0828e9f5-f917-462e-c11c-d64454a6a600"
      },
      "outputs": [
        {
          "output_type": "execute_result",
          "data": {
            "text/plain": [
              "{'model_class': 'Job',\n",
              " 'id': 'bbd44e69cb8906b5c007e95057dbf69f',\n",
              " 'state': 'ok',\n",
              " 'exit_code': 0,\n",
              " 'update_time': '2024-01-27T11:36:46.405191',\n",
              " 'create_time': '2024-01-27T11:36:12.531735',\n",
              " 'galaxy_version': '23.2',\n",
              " 'command_version': '3.15.3',\n",
              " 'copied_from_job_id': None,\n",
              " 'tool_id': 'toolshed.g2.bx.psu.edu/repos/nml/spades/spades/3.15.3+galaxy2',\n",
              " 'history_id': 'cb10237dc4dcbd58',\n",
              " 'params': {'operation_mode': '\"\"',\n",
              "  'singlePaired': '{\"__current_case__\": 0, \"input1\": {\"values\": [{\"id\": 122106323, \"src\": \"hda\"}]}, \"sPaired\": \"single\"}',\n",
              "  'additional_reads': '{\"__current_case__\": 1, \"selector\": \"false\"}',\n",
              "  'arf': '{\"nanopore\": null, \"pacbio\": null, \"sanger\": null, \"trusted_contigs\": null, \"untrusted_contigs\": null}',\n",
              "  'mode_sel': '\"--isolate\"',\n",
              "  'cov_cond': '{\"__current_case__\": 0, \"cov_cutoff\": \"off\"}',\n",
              "  'kmer_cond': '{\"__current_case__\": 0, \"kmer_sel\": \"auto\"}',\n",
              "  'phred_offset': '\"auto\"',\n",
              "  'optional_output': '[\"ag\", \"ags\", \"cn\", \"sc\"]',\n",
              "  'chromInfo': '\"/cvmfs/data.galaxyproject.org/managed/len/ucsc/?.len\"',\n",
              "  'dbkey': '\"?\"',\n",
              "  '__input_ext': '\"input\"'},\n",
              " 'inputs': {'singlePaired|input1': {'id': 'f9cad7b01a47213561b51abcba60bcc4',\n",
              "   'src': 'hda',\n",
              "   'uuid': '07076d84-d293-42f3-8626-cd30086931db'},\n",
              "  'singlePaired|input11': {'id': 'f9cad7b01a47213561b51abcba60bcc4',\n",
              "   'src': 'hda',\n",
              "   'uuid': '07076d84-d293-42f3-8626-cd30086931db'}},\n",
              " 'outputs': {'out_ag': {'id': 'f9cad7b01a472135d2a72296ee94fce5',\n",
              "   'src': 'hda',\n",
              "   'uuid': 'ed7a6e51-f09d-4af5-8cd8-af31f31a3f9d'},\n",
              "  'out_ags': {'id': 'f9cad7b01a4721350b72bf7504429986',\n",
              "   'src': 'hda',\n",
              "   'uuid': '34a2d7c4-069a-44cd-b1e0-81de9e6c8d64'},\n",
              "  'out_cn': {'id': 'f9cad7b01a4721356730c1ed071a7af6',\n",
              "   'src': 'hda',\n",
              "   'uuid': 'a4fbb745-b6ff-4226-aca5-1159c0ae37f8'},\n",
              "  'out_sc': {'id': 'f9cad7b01a4721358a5d8162e44b3586',\n",
              "   'src': 'hda',\n",
              "   'uuid': '7daaf3f2-e0f6-4e45-a44f-bec59e7be2b7'}},\n",
              " 'output_collections': {},\n",
              " 'command_line': \"mkdir -p reads1 && ln -s '/corral4/main/objects/0/7/0/dataset_07076d84-d293-42f3-8626-cd30086931db.dat' 'reads1/short_reads.fasta.fasta' &&          spades.py  -o 'output'  -t ${GALAXY_SLOTS:-4} -m $((${GALAXY_MEMORY_MB:-8192}/1024))   --s 1 'reads1/short_reads.fasta.fasta'        --cov-cutoff off    --isolate\"}"
            ]
          },
          "metadata": {},
          "execution_count": 78
        }
      ],
      "source": [
        "assembly_dict"
      ]
    },
    {
      "cell_type": "code",
      "execution_count": 79,
      "metadata": {
        "id": "fNB6G_4eGbOB"
      },
      "outputs": [],
      "source": [
        "# Download the assembled genome from Galaxy. You can use the `download_dataset` method. A FASTA file, containing assembly\n",
        "# of the whole sequence is what we expect here.\n",
        "\n",
        "assembled_genome_dataset_id = 'f9cad7b01a4721356730c1ed071a7af6'\n",
        "\n",
        "# Download the assembled genome dataset\n",
        "assembled_genome_file = gi.datasets.download_dataset(assembled_genome_dataset_id)\n",
        "\n",
        "# Specify the path where you want to save the downloaded file\n",
        "output_file_path = './outputs/assembled_genome.fasta'\n",
        "\n",
        "# Save the downloaded file\n",
        "with open(output_file_path, 'wb') as output_file:\n",
        "    output_file.write(assembled_genome_file)"
      ]
    },
    {
      "cell_type": "markdown",
      "metadata": {
        "id": "njgL0A4UGbOC"
      },
      "source": [
        "### Part 2: Using BLAST to Query The Assembled Sequence\n",
        "\n",
        "In this part of the notebook, you will utilize the NCBI BLAST API to analyze the genome sequence you've assembled. This involves integrating the API into your notebook, submitting your sequence for BLAST querying, and then meticulously examining the results. Your focus will be on identifying similarities or unique traits in the sequence compared to others in the NCBI database, particularly exploring its relationship with known sequences in various species. This step is crucial for understanding the evolutionary and biological significance of your assembled genome.\n",
        "\n",
        "**Note**: Unlike the previous section, for this one, you must deliver the full code in the notebook. Doing this part using website will not be graded."
      ]
    },
    {
      "cell_type": "code",
      "execution_count": 80,
      "metadata": {
        "id": "pqEPFX1UGbOC"
      },
      "outputs": [],
      "source": [
        "# Import necessary libraries\n",
        "from Bio.Blast import NCBIWWW\n",
        "from Bio.Blast import NCBIXML\n",
        "from collections import defaultdict\n",
        "\n"
      ]
    },
    {
      "cell_type": "code",
      "execution_count": 82,
      "metadata": {
        "colab": {
          "base_uri": "https://localhost:8080/",
          "height": 157
        },
        "id": "iaFtaH3FGbOD",
        "outputId": "a7a30665-53bd-48d5-96f8-5ffecdac3624"
      },
      "outputs": [
        {
          "output_type": "execute_result",
          "data": {
            "text/plain": [
              "'>NODE_1_length_3002_cov_4.078291\\nGATAGTCGGGTTGGAAACTTACTATCCTTTCTTCTTGGTGTTTAAATAAATCTCCCAAAG\\nGTATCTCTTCAGCTTCCTCGTGCTGAATAAGATAACCCGGTGGAACAGGAGTAGTAGTGG\\nGAGGTATAACAGCTCTTAATGATTCGGCTATTTCATGCATGCCCTGTGTAGTCTGCCAGA\\nAGTCTTCAATGAGATCCACAAAGTGAGTTGCAATCAAAACATGTTTCTTTATTGAATCTG\\nATTTCCAATAAGGCTCTAAAGCGTCTTTAGCATCTCTAACAAGATCATCTATTTTTGGAA\\nAGAAATCATCTGGTAGATCATACACATTGGCTAAGGCTCTAGAAGCATTGATATCCATAT\\nATAAGCAAGAATCATAAACAATGGTACATACCAAAGGTACAGTCACACACGACAACAGCA\\nATGTAGACGTAAAGATACCTTGGCAAGCAGCTCCGAAGGAGAGGGGTGTAATTCTTAAGT\\nTCCACATAGCCTATGTGGAATATATATTGCTTTCGAGAGAGGGGTGTATGGAAAAGCCGT\\nCCAATCAGGAGGTTTGTGCCTGGATGGGCCGTCAGCAGGATTATATTTGCTCGGGACAAA\\nGTACAATTGTATCGGTTTGAGCAATTGTTTGGCCAACATAGCAAAATGCCATGGTAACGT\\nCTGATAACGCTTATGGCAAACAAAAGTTGAATCAGATAAGAGACAACGTGGTTTAATCAT\\nTATCTTGGCTAAACAAGACATCAATAGTTCCTGAACATGTATATCTCTGACCTTTGAAAA\\nAGCAAACACTGCGCTCCCGCCGGTGATATGGGATATTGCGCCATGTGTTGGGGTAGCATC\\nTGTAGCTACACGTGGCAAAGGTACAGAGGACTTTGGCTTTATTCTTAATTTACACACACC\\nCATTGTTAGTTTATATAACAAAGTCCTATAGGATGAAGAGAAGCTAAAGTTTACTTGGTT\\nAGTAATAGCAGCATACATTGGTTTTAACATTTCAATATTACCTTTAGTAAAAGGCAAAAC\\nAAAATTCAAATGCCCCACAAATCTTTGAATACATTTCCAGTCATACCATTCTCCTACTTT\\nTATTTTCTTGATTACAGTCCTTAATTCTTTCCATCTGCTTTCTTCAATCTTCATGAAATT\\nTTCATCAATCTGGTAACCGAGGAATCTTATTTCATTCACCGGAGAAGGCGTGGTTTTGTC\\nAAAGTTTATTCTTATTCCTAACTCTTGTAAAAAAGAGCAGACAGCGTGGCTAATTGCGTT\\nAAGGTGACGAGCGTTTGGGTGGCAGAGGAGGAAGTCATCCATATAAGTGAAAGTCCAAAC\\nGTTAAAGCGACGAGAGATTTCGGATCCGAGGGCAGTAGTGAAGAGATGGAGGAGAAAAGG\\nGCTGAGACCGACGCCCATTGGAGCTTTCCTAAAATAGTAGACCCGTTGTCCGTCAGATAC\\nAGCAAGCCTGCTGCTACTAGCAGGATTAAGAGGAAGATGATAAAAAGCCTGAGATAGGTC\\nCAAAGAAATCCTGGGCATCCCCACGGGCAAGATCCTACGTAATGTGGAGAGATTTGGGCT\\nCCAGTATCTTGGAAAGCGCATTGCATTTTTCCCTTTGGAGAACTGAGAGAAATCCACCAC\\nCAATCTAGCCTCCTCAGTATTTCTAGAATTTTTATCAACAAGAAAAAGCTTACCAGTAAT\\nCCGATTAGGCCAGCTAGTATTCCCCCGAAGGTACCAGACATTTTCTTCTTCAAGGGGGGA\\nGTTTTTATCACTGGCACCGCTGGTTCTGACTGGTATAGCGGATGAGTCTCGAGGAGAGAC\\nTGATTTCCCAGGAGTGGATCGTCCCCGGGTTGTAGCTTCCACTGAGGAGGGGAAGACGGA\\nGGAATGGTGGTGGTTTCCGGTGGTCTTTCTTCTTGATAACGGCGAAAAGCTTCGCGTGCT\\nTTTTGGTCTTCCTCGGGAGTCCACTGGGGCTGAGGAATCTCTTGAGGAGTCGGATTTGAT\\nAATCCTACTCTCCTTCCCGCCCCAGCAGGCCAAGCTCCCTGATTCTGGAGGGTGTTTATC\\nTCCTCCATTGTTTGCACATGGTCTAACACGTGATCTAGTGTTGGAAACTTGCCTGACCAT\\nGTCAAAGTCCCTTTTGGGATCATCCTTCCGGCAAGTTGGTTTAACAGTATTTCTCCTCCT\\nTCTATCCGTCTGACGTCCATTGATTTTGCTGGATGTTGCCCCATCATAAATGTGATGTTG\\nATTGACAAGGTGTTGCTGTTCCCAATTATAAGGCTGACCTTTAAATGTGACCAAATGTTT\\nAGATATCCGCTTATAAAGGATTCCTGCTTCATAGAGCCTGGTTAAATATTTACCTACTAT\\nTGATTCATGTTGCATCACATTGTCAGGATACTTTGGTTTAACCCCTACCTGGACAGGAAA\\nGTAGGAAATGCTCTTGGGCCAGAATTTGGCTGGAGTCAAATATTTCCAATTTCGGGAAGG\\nGCACTCATTAACTACATCTAAATTAAAATGAGTATCCGAAATATCTGGTACTTTCCATTC\\nTGGGTTAAAAGTACAGCCCTTCATTTGATATAGTCCTGACAATTTACCTAAGTGATGCCT\\nAGCAGGTAATTTATTTCCTAGGCGAGGGAGATCTATGGTGGCTGCTCGAACTACGTGGGA\\nGAGGGGAGCCCGCACGTTGGGGTGTAGGGGCTCTCCTTTCCCGGGACTTTGAACGTCTTC\\nTCCCATAGACAACTGTGGTTTTAACTTTTCTTCTTCTAGGTTCGAGTCCACGAGGTTTTC\\nTAGTACCCGTAGTTGTTTTTCTGCCTCCCTGAGCCACCTGGATTGGTCTAGTGATTGCTT\\nCAATGGTCGGGGCATCTCTACCTCTATATTTCTCAGGAGTTGACAACCAAGTACGCAAAC\\nGAGAAATATAGTTAGTAACTTGAGCTTCTCCCCACAGTAAACAGTTGTAATGCCACCAAA\\nGCAATCTCCTAGCCCTATCCAGTGATTCCTCGTTAATTTTTGCATAAGCTTTCAAATGAG\\nCA\\n'"
            ],
            "application/vnd.google.colaboratory.intrinsic+json": {
              "type": "string"
            }
          },
          "metadata": {},
          "execution_count": 82
        }
      ],
      "source": [
        "# Load the assembled genome\n",
        "with open('./outputs/assembled_genome.fasta', 'r') as file:\n",
        "    assembled_genome = file.read()\n",
        "\n",
        "assembled_genome"
      ]
    },
    {
      "cell_type": "code",
      "execution_count": 83,
      "metadata": {
        "id": "xuciBkHiGbOD"
      },
      "outputs": [],
      "source": [
        "from Bio.Blast import NCBIWWW\n",
        "\n",
        "# Perform the BLAST query, filtering for eukaryotes\n",
        "\n",
        "### TODO ###\n",
        "result_handle = NCBIWWW.qblast(program=\"blastn\",\n",
        "                               database=\"nt\",\n",
        "                               sequence=assembled_genome,\n",
        "                               entrez_query='\"Eukaryota\"[Organism]',# Only filter Eucaryotes. Hint: You can do this by giving their taxonomy id.\n",
        "                               hitlist_size=100,\n",
        "                               word_size=16)\n",
        "### TODO ###\n"
      ]
    },
    {
      "cell_type": "code",
      "execution_count": 84,
      "metadata": {
        "colab": {
          "base_uri": "https://localhost:8080/"
        },
        "id": "yezJRMewGbOD",
        "outputId": "68e7e429-7ac6-4681-ce84-ec9f2ce362c6"
      },
      "outputs": [
        {
          "output_type": "execute_result",
          "data": {
            "text/plain": [
              "<generator object parse at 0x7f0462111700>"
            ]
          },
          "metadata": {},
          "execution_count": 84
        }
      ],
      "source": [
        "from Bio.Blast import NCBIXML\n",
        "\n",
        "blast_records = NCBIXML.parse(result_handle)\n",
        "\n",
        "blast_records"
      ]
    },
    {
      "cell_type": "code",
      "execution_count": 85,
      "metadata": {
        "colab": {
          "base_uri": "https://localhost:8080/",
          "height": 293
        },
        "id": "eNhS4eJ0GbOE",
        "outputId": "4ec66161-5850-473c-b981-839cb135ebd4"
      },
      "outputs": [
        {
          "output_type": "execute_result",
          "data": {
            "text/plain": [
              "      query_id                                    alignment_title  \\\n",
              "0  Query_63409  gi|389587610|gb|JQ978784.1| Melopsittacus undu...   \n",
              "1  Query_63409  gi|389587610|gb|JQ978784.1| Melopsittacus undu...   \n",
              "2  Query_63409  gi|389587608|gb|JQ978782.1| Melopsittacus undu...   \n",
              "3  Query_63409  gi|389587608|gb|JQ978782.1| Melopsittacus undu...   \n",
              "4  Query_63409  gi|389587607|gb|JQ978781.1| Melopsittacus undu...   \n",
              "\n",
              "        e_value  identity accession  \\\n",
              "0  0.000000e+00      1168  JQ978784   \n",
              "1  4.345780e-61       532  JQ978784   \n",
              "2  0.000000e+00      1168  JQ978782   \n",
              "3  1.847870e-59       531  JQ978782   \n",
              "4  0.000000e+00      1168  JQ978781   \n",
              "\n",
              "                                            taxonomy                  species  \n",
              "0  Eukaryota; Metazoa; Chordata; Craniata; Verteb...  Melopsittacus undulatus  \n",
              "1  Eukaryota; Metazoa; Chordata; Craniata; Verteb...  Melopsittacus undulatus  \n",
              "2  Eukaryota; Metazoa; Chordata; Craniata; Verteb...  Melopsittacus undulatus  \n",
              "3  Eukaryota; Metazoa; Chordata; Craniata; Verteb...  Melopsittacus undulatus  \n",
              "4  Eukaryota; Metazoa; Chordata; Craniata; Verteb...  Melopsittacus undulatus  "
            ],
            "text/html": [
              "\n",
              "  <div id=\"df-d999a87f-ab65-4d4d-945f-7e1c72181d93\" class=\"colab-df-container\">\n",
              "    <div>\n",
              "<style scoped>\n",
              "    .dataframe tbody tr th:only-of-type {\n",
              "        vertical-align: middle;\n",
              "    }\n",
              "\n",
              "    .dataframe tbody tr th {\n",
              "        vertical-align: top;\n",
              "    }\n",
              "\n",
              "    .dataframe thead th {\n",
              "        text-align: right;\n",
              "    }\n",
              "</style>\n",
              "<table border=\"1\" class=\"dataframe\">\n",
              "  <thead>\n",
              "    <tr style=\"text-align: right;\">\n",
              "      <th></th>\n",
              "      <th>query_id</th>\n",
              "      <th>alignment_title</th>\n",
              "      <th>e_value</th>\n",
              "      <th>identity</th>\n",
              "      <th>accession</th>\n",
              "      <th>taxonomy</th>\n",
              "      <th>species</th>\n",
              "    </tr>\n",
              "  </thead>\n",
              "  <tbody>\n",
              "    <tr>\n",
              "      <th>0</th>\n",
              "      <td>Query_63409</td>\n",
              "      <td>gi|389587610|gb|JQ978784.1| Melopsittacus undu...</td>\n",
              "      <td>0.000000e+00</td>\n",
              "      <td>1168</td>\n",
              "      <td>JQ978784</td>\n",
              "      <td>Eukaryota; Metazoa; Chordata; Craniata; Verteb...</td>\n",
              "      <td>Melopsittacus undulatus</td>\n",
              "    </tr>\n",
              "    <tr>\n",
              "      <th>1</th>\n",
              "      <td>Query_63409</td>\n",
              "      <td>gi|389587610|gb|JQ978784.1| Melopsittacus undu...</td>\n",
              "      <td>4.345780e-61</td>\n",
              "      <td>532</td>\n",
              "      <td>JQ978784</td>\n",
              "      <td>Eukaryota; Metazoa; Chordata; Craniata; Verteb...</td>\n",
              "      <td>Melopsittacus undulatus</td>\n",
              "    </tr>\n",
              "    <tr>\n",
              "      <th>2</th>\n",
              "      <td>Query_63409</td>\n",
              "      <td>gi|389587608|gb|JQ978782.1| Melopsittacus undu...</td>\n",
              "      <td>0.000000e+00</td>\n",
              "      <td>1168</td>\n",
              "      <td>JQ978782</td>\n",
              "      <td>Eukaryota; Metazoa; Chordata; Craniata; Verteb...</td>\n",
              "      <td>Melopsittacus undulatus</td>\n",
              "    </tr>\n",
              "    <tr>\n",
              "      <th>3</th>\n",
              "      <td>Query_63409</td>\n",
              "      <td>gi|389587608|gb|JQ978782.1| Melopsittacus undu...</td>\n",
              "      <td>1.847870e-59</td>\n",
              "      <td>531</td>\n",
              "      <td>JQ978782</td>\n",
              "      <td>Eukaryota; Metazoa; Chordata; Craniata; Verteb...</td>\n",
              "      <td>Melopsittacus undulatus</td>\n",
              "    </tr>\n",
              "    <tr>\n",
              "      <th>4</th>\n",
              "      <td>Query_63409</td>\n",
              "      <td>gi|389587607|gb|JQ978781.1| Melopsittacus undu...</td>\n",
              "      <td>0.000000e+00</td>\n",
              "      <td>1168</td>\n",
              "      <td>JQ978781</td>\n",
              "      <td>Eukaryota; Metazoa; Chordata; Craniata; Verteb...</td>\n",
              "      <td>Melopsittacus undulatus</td>\n",
              "    </tr>\n",
              "  </tbody>\n",
              "</table>\n",
              "</div>\n",
              "    <div class=\"colab-df-buttons\">\n",
              "\n",
              "  <div class=\"colab-df-container\">\n",
              "    <button class=\"colab-df-convert\" onclick=\"convertToInteractive('df-d999a87f-ab65-4d4d-945f-7e1c72181d93')\"\n",
              "            title=\"Convert this dataframe to an interactive table.\"\n",
              "            style=\"display:none;\">\n",
              "\n",
              "  <svg xmlns=\"http://www.w3.org/2000/svg\" height=\"24px\" viewBox=\"0 -960 960 960\">\n",
              "    <path d=\"M120-120v-720h720v720H120Zm60-500h600v-160H180v160Zm220 220h160v-160H400v160Zm0 220h160v-160H400v160ZM180-400h160v-160H180v160Zm440 0h160v-160H620v160ZM180-180h160v-160H180v160Zm440 0h160v-160H620v160Z\"/>\n",
              "  </svg>\n",
              "    </button>\n",
              "\n",
              "  <style>\n",
              "    .colab-df-container {\n",
              "      display:flex;\n",
              "      gap: 12px;\n",
              "    }\n",
              "\n",
              "    .colab-df-convert {\n",
              "      background-color: #E8F0FE;\n",
              "      border: none;\n",
              "      border-radius: 50%;\n",
              "      cursor: pointer;\n",
              "      display: none;\n",
              "      fill: #1967D2;\n",
              "      height: 32px;\n",
              "      padding: 0 0 0 0;\n",
              "      width: 32px;\n",
              "    }\n",
              "\n",
              "    .colab-df-convert:hover {\n",
              "      background-color: #E2EBFA;\n",
              "      box-shadow: 0px 1px 2px rgba(60, 64, 67, 0.3), 0px 1px 3px 1px rgba(60, 64, 67, 0.15);\n",
              "      fill: #174EA6;\n",
              "    }\n",
              "\n",
              "    .colab-df-buttons div {\n",
              "      margin-bottom: 4px;\n",
              "    }\n",
              "\n",
              "    [theme=dark] .colab-df-convert {\n",
              "      background-color: #3B4455;\n",
              "      fill: #D2E3FC;\n",
              "    }\n",
              "\n",
              "    [theme=dark] .colab-df-convert:hover {\n",
              "      background-color: #434B5C;\n",
              "      box-shadow: 0px 1px 3px 1px rgba(0, 0, 0, 0.15);\n",
              "      filter: drop-shadow(0px 1px 2px rgba(0, 0, 0, 0.3));\n",
              "      fill: #FFFFFF;\n",
              "    }\n",
              "  </style>\n",
              "\n",
              "    <script>\n",
              "      const buttonEl =\n",
              "        document.querySelector('#df-d999a87f-ab65-4d4d-945f-7e1c72181d93 button.colab-df-convert');\n",
              "      buttonEl.style.display =\n",
              "        google.colab.kernel.accessAllowed ? 'block' : 'none';\n",
              "\n",
              "      async function convertToInteractive(key) {\n",
              "        const element = document.querySelector('#df-d999a87f-ab65-4d4d-945f-7e1c72181d93');\n",
              "        const dataTable =\n",
              "          await google.colab.kernel.invokeFunction('convertToInteractive',\n",
              "                                                    [key], {});\n",
              "        if (!dataTable) return;\n",
              "\n",
              "        const docLinkHtml = 'Like what you see? Visit the ' +\n",
              "          '<a target=\"_blank\" href=https://colab.research.google.com/notebooks/data_table.ipynb>data table notebook</a>'\n",
              "          + ' to learn more about interactive tables.';\n",
              "        element.innerHTML = '';\n",
              "        dataTable['output_type'] = 'display_data';\n",
              "        await google.colab.output.renderOutput(dataTable, element);\n",
              "        const docLink = document.createElement('div');\n",
              "        docLink.innerHTML = docLinkHtml;\n",
              "        element.appendChild(docLink);\n",
              "      }\n",
              "    </script>\n",
              "  </div>\n",
              "\n",
              "\n",
              "<div id=\"df-b44a08d7-174a-46d3-a450-8249a855cc04\">\n",
              "  <button class=\"colab-df-quickchart\" onclick=\"quickchart('df-b44a08d7-174a-46d3-a450-8249a855cc04')\"\n",
              "            title=\"Suggest charts\"\n",
              "            style=\"display:none;\">\n",
              "\n",
              "<svg xmlns=\"http://www.w3.org/2000/svg\" height=\"24px\"viewBox=\"0 0 24 24\"\n",
              "     width=\"24px\">\n",
              "    <g>\n",
              "        <path d=\"M19 3H5c-1.1 0-2 .9-2 2v14c0 1.1.9 2 2 2h14c1.1 0 2-.9 2-2V5c0-1.1-.9-2-2-2zM9 17H7v-7h2v7zm4 0h-2V7h2v10zm4 0h-2v-4h2v4z\"/>\n",
              "    </g>\n",
              "</svg>\n",
              "  </button>\n",
              "\n",
              "<style>\n",
              "  .colab-df-quickchart {\n",
              "      --bg-color: #E8F0FE;\n",
              "      --fill-color: #1967D2;\n",
              "      --hover-bg-color: #E2EBFA;\n",
              "      --hover-fill-color: #174EA6;\n",
              "      --disabled-fill-color: #AAA;\n",
              "      --disabled-bg-color: #DDD;\n",
              "  }\n",
              "\n",
              "  [theme=dark] .colab-df-quickchart {\n",
              "      --bg-color: #3B4455;\n",
              "      --fill-color: #D2E3FC;\n",
              "      --hover-bg-color: #434B5C;\n",
              "      --hover-fill-color: #FFFFFF;\n",
              "      --disabled-bg-color: #3B4455;\n",
              "      --disabled-fill-color: #666;\n",
              "  }\n",
              "\n",
              "  .colab-df-quickchart {\n",
              "    background-color: var(--bg-color);\n",
              "    border: none;\n",
              "    border-radius: 50%;\n",
              "    cursor: pointer;\n",
              "    display: none;\n",
              "    fill: var(--fill-color);\n",
              "    height: 32px;\n",
              "    padding: 0;\n",
              "    width: 32px;\n",
              "  }\n",
              "\n",
              "  .colab-df-quickchart:hover {\n",
              "    background-color: var(--hover-bg-color);\n",
              "    box-shadow: 0 1px 2px rgba(60, 64, 67, 0.3), 0 1px 3px 1px rgba(60, 64, 67, 0.15);\n",
              "    fill: var(--button-hover-fill-color);\n",
              "  }\n",
              "\n",
              "  .colab-df-quickchart-complete:disabled,\n",
              "  .colab-df-quickchart-complete:disabled:hover {\n",
              "    background-color: var(--disabled-bg-color);\n",
              "    fill: var(--disabled-fill-color);\n",
              "    box-shadow: none;\n",
              "  }\n",
              "\n",
              "  .colab-df-spinner {\n",
              "    border: 2px solid var(--fill-color);\n",
              "    border-color: transparent;\n",
              "    border-bottom-color: var(--fill-color);\n",
              "    animation:\n",
              "      spin 1s steps(1) infinite;\n",
              "  }\n",
              "\n",
              "  @keyframes spin {\n",
              "    0% {\n",
              "      border-color: transparent;\n",
              "      border-bottom-color: var(--fill-color);\n",
              "      border-left-color: var(--fill-color);\n",
              "    }\n",
              "    20% {\n",
              "      border-color: transparent;\n",
              "      border-left-color: var(--fill-color);\n",
              "      border-top-color: var(--fill-color);\n",
              "    }\n",
              "    30% {\n",
              "      border-color: transparent;\n",
              "      border-left-color: var(--fill-color);\n",
              "      border-top-color: var(--fill-color);\n",
              "      border-right-color: var(--fill-color);\n",
              "    }\n",
              "    40% {\n",
              "      border-color: transparent;\n",
              "      border-right-color: var(--fill-color);\n",
              "      border-top-color: var(--fill-color);\n",
              "    }\n",
              "    60% {\n",
              "      border-color: transparent;\n",
              "      border-right-color: var(--fill-color);\n",
              "    }\n",
              "    80% {\n",
              "      border-color: transparent;\n",
              "      border-right-color: var(--fill-color);\n",
              "      border-bottom-color: var(--fill-color);\n",
              "    }\n",
              "    90% {\n",
              "      border-color: transparent;\n",
              "      border-bottom-color: var(--fill-color);\n",
              "    }\n",
              "  }\n",
              "</style>\n",
              "\n",
              "  <script>\n",
              "    async function quickchart(key) {\n",
              "      const quickchartButtonEl =\n",
              "        document.querySelector('#' + key + ' button');\n",
              "      quickchartButtonEl.disabled = true;  // To prevent multiple clicks.\n",
              "      quickchartButtonEl.classList.add('colab-df-spinner');\n",
              "      try {\n",
              "        const charts = await google.colab.kernel.invokeFunction(\n",
              "            'suggestCharts', [key], {});\n",
              "      } catch (error) {\n",
              "        console.error('Error during call to suggestCharts:', error);\n",
              "      }\n",
              "      quickchartButtonEl.classList.remove('colab-df-spinner');\n",
              "      quickchartButtonEl.classList.add('colab-df-quickchart-complete');\n",
              "    }\n",
              "    (() => {\n",
              "      let quickchartButtonEl =\n",
              "        document.querySelector('#df-b44a08d7-174a-46d3-a450-8249a855cc04 button');\n",
              "      quickchartButtonEl.style.display =\n",
              "        google.colab.kernel.accessAllowed ? 'block' : 'none';\n",
              "    })();\n",
              "  </script>\n",
              "</div>\n",
              "    </div>\n",
              "  </div>\n"
            ]
          },
          "metadata": {},
          "execution_count": 85
        }
      ],
      "source": [
        "import pandas as pd\n",
        "from Bio import Entrez\n",
        "\n",
        "# Set your email here for Entrez\n",
        "Entrez.email = \"hopebraves@gmail.com\"\n",
        "\n",
        "def fetch_taxonomy_info(accession):\n",
        "    \"\"\"\n",
        "    Fetch taxonomy information using Entrez for a given accession number.\n",
        "    \"\"\"\n",
        "    handle = Entrez.efetch(db=\"nucleotide\", id=accession, retmode=\"xml\")\n",
        "    records = Entrez.read(handle)\n",
        "\n",
        "    ### TODO ###\n",
        "\n",
        "    taxonomy = records[0]['GBSeq_taxonomy']\n",
        "    species = records[0]['GBSeq_organism']\n",
        "\n",
        "    ### TODO ###\n",
        "\n",
        "    return taxonomy, species\n",
        "\n",
        "\n",
        "def parse_blast_results():\n",
        "    \"\"\"\n",
        "    Parse BLAST results and extract relevant information including taxonomy.\n",
        "    \"\"\"\n",
        "    blast_results = []\n",
        "\n",
        "    for record in blast_records:\n",
        "        for alignment in record.alignments:\n",
        "            accession = alignment.accession\n",
        "            taxonomy, species = fetch_taxonomy_info(accession)\n",
        "            for hsp in alignment.hsps:\n",
        "                # These fields are required in your submission\n",
        "                blast_results.append({\n",
        "                    'query_id': record.query_id,\n",
        "                    'alignment_title': alignment.title,\n",
        "                    'e_value': hsp.expect,\n",
        "                    'identity': hsp.identities,\n",
        "                    'accession': accession,\n",
        "                    'taxonomy': taxonomy,\n",
        "                    'species': species\n",
        "                })\n",
        "    return blast_results\n",
        "\n",
        "\n",
        "blast_results = parse_blast_results()\n",
        "df = pd.DataFrame(blast_results)\n",
        "df.to_csv('./outputs/blast_results_with_taxonomy.csv', index=False)\n",
        "\n",
        "df.head()"
      ]
    },
    {
      "cell_type": "markdown",
      "metadata": {
        "id": "fDxTw6qIGbOE"
      },
      "source": [
        "## Analysis of The Results\n",
        "\n",
        "### Drawing Your Own Conclusions\n",
        "\n",
        "Now that you have completed the BLAST search, a fascinating part of your journey begins – interpreting the data. This stage is where your critical thinking and creativity come into play. From now on, the rest of the notebook will be about whatever you want it to be. Any path that leads to meaningful insights about the data and provides a solid conclusion for the task is acceptable. Let's explore some possible directions:\n",
        "\n",
        "1. **Species-Specific Patterns:** Examine if the sequence is found exclusively or predominantly in certain species. What could this suggest about its evolution and adaptation? While the focus is not on finding a 'correct' answer, pondering this aspect can lead to interesting hypotheses about species-specific interactions.\n",
        "\n",
        "2. **Functional Insights:** Reflect on the potential roles this sequence might play within the genomes where it's found. Could it be integral to certain biological functions, or a legacy of ancient genomic events?\n",
        "\n",
        "3. **Comparative Genomics:** Compare your findings with sequences in other species. Notice any striking similarities or differences? These comparisons could shed light on the sequence's evolutionary journey.\n",
        "\n",
        "4. **Ecological and Environmental Context:** Consider the ecological and environmental factors that might influence the distribution and evolution of this sequence. How might habitat or lifestyle of the species play a role in its presence or absence?\n",
        "\n",
        "### Additional Tips and Encouragement\n",
        "\n",
        "This project is more about the learning journey and less about achieving perfect results. Here are some additional pointers:\n",
        "\n",
        "1. **Deep Dives:** Encourage yourself to explore the data thoroughly. Use various bioinformatics tools to gain a holistic understanding.\n",
        "\n",
        "2. **Creative Visualization:** Craft visual representations of your analysis. Effective use of charts or infographics can provide insightful perspectives.\n",
        "\n",
        "3. **Open-Ended Exploration:** Feel free to extend your analysis in directions you find intriguing. This could include phylogenetic studies or exploring the ecological aspects of the sequence.\n",
        "\n",
        "Remember, this project is designed to be a learning experience. We don't expect you to uncover all the answers but rather to engage thoughtfully with the data and enjoy the process of discovery."
      ]
    },
    {
      "cell_type": "code",
      "execution_count": 87,
      "metadata": {
        "id": "hP6Ct3a4GbOE"
      },
      "outputs": [],
      "source": [
        "### TODO ###"
      ]
    },
    {
      "cell_type": "code",
      "source": [
        "# Load the CSV file containing BLAST results with taxonomy\n",
        "blast_results_df = pd.read_csv('./outputs/blast_results_with_taxonomy.csv')\n",
        "\n",
        "# Calculate the frequency of occurrences of the sequence in each species\n",
        "species_counts = blast_results_df['species'].value_counts()\n",
        "\n",
        "# Calculate the total number of sequences\n",
        "total_sequences = blast_results_df.shape[0]\n",
        "\n",
        "# Calculate the percentage of sequences found in each species\n",
        "species_percentage = (species_counts / total_sequences) * 100\n",
        "\n",
        "# Display the species distribution\n",
        "print(\"Species Distribution:\")\n",
        "print(species_percentage)\n",
        "\n",
        "# Determine if the sequence is predominantly found in specific species\n",
        "threshold_percentage = 20  # Define a threshold percentage for predominance\n",
        "\n",
        "predominant_species = species_percentage[species_percentage >= threshold_percentage]\n",
        "\n",
        "if predominant_species.empty:\n",
        "    print(\"\\nThe sequence is not predominantly found in any specific species.\")\n",
        "else:\n",
        "    print(f\"\\nThe sequence is predominantly found in the following species:\")\n",
        "    print(predominant_species)\n",
        "\n"
      ],
      "metadata": {
        "colab": {
          "base_uri": "https://localhost:8080/"
        },
        "id": "be4k-xkDQ6Ww",
        "outputId": "44f28530-610d-41d9-ec2d-8e9d0d9ef66c"
      },
      "execution_count": 93,
      "outputs": [
        {
          "output_type": "stream",
          "name": "stdout",
          "text": [
            "Species Distribution:\n",
            "Melopsittacus undulatus                  23.357664\n",
            "Phalacrocorax aristotelis                 6.569343\n",
            "Phalacrocorax carbo                       5.109489\n",
            "Fringilla coelebs                         4.379562\n",
            "Psittacula echo                           4.379562\n",
            "Trilocha varians                          2.919708\n",
            "Prunella modularis modularis              2.919708\n",
            "Carpodacus erythrinus erythrinus          2.919708\n",
            "Haliaeetus albicilla                      2.189781\n",
            "Anthus pratensis pratensis                2.189781\n",
            "Buteo lagopus lagopus                     1.459854\n",
            "Veronica nakaiana                         1.459854\n",
            "Caprimulgus europaeus                     1.459854\n",
            "Scophthalmus maximus                      1.459854\n",
            "Taeniopygia guttata                       1.459854\n",
            "Gallus gallus                             1.459854\n",
            "Narthecium ossifragum                     1.459854\n",
            "Watersipora subatra                       1.459854\n",
            "Chroicocephalus ridibundus ridibundus     1.459854\n",
            "Aquila chrysaetos chrysaetos              1.459854\n",
            "Accipiter gentilis                        1.459854\n",
            "Orchestes rusci                           0.729927\n",
            "Acrobasis consociella                     0.729927\n",
            "Anarsia innoxiella                        0.729927\n",
            "Veronica chamaedrys                       0.729927\n",
            "Veronica eriogyne                         0.729927\n",
            "Haliotis rubra                            0.729927\n",
            "Aphrophora alni                           0.729927\n",
            "Plagiodera versicolora                    0.729927\n",
            "Euplagia quadripunctaria                  0.729927\n",
            "Micropterus salmoides                     0.729927\n",
            "Furcula furcula                           0.729927\n",
            "Eilema sororculum                         0.729927\n",
            "Phorcus lineatus                          0.729927\n",
            "Stratiomys singularior                    0.729927\n",
            "Agonopterix heracliana                    0.729927\n",
            "Apteryx mantelli mantelli                 0.729927\n",
            "Veronica ovata subsp. kiusiana            0.729927\n",
            "Junco hyemalis                            0.729927\n",
            "Rissa tridactyla                          0.729927\n",
            "Columba palumbus palumbus                 0.729927\n",
            "Neopsephotus bourkii                      0.729927\n",
            "Cuculus canorus                           0.729927\n",
            "Buceros rhinoceros silvestris             0.729927\n",
            "Chloebia gouldiae                         0.729927\n",
            "Poephila cincta                           0.729927\n",
            "Nestor notabilis                          0.729927\n",
            "Anas platyrhynchos                        0.729927\n",
            "Veronica spicata                          0.729927\n",
            "Somateria mollissima                      0.729927\n",
            "Lonchura punctulata                       0.729927\n",
            "Falco punctatus                           0.729927\n",
            "Cinnyris asiaticus asiaticus              0.729927\n",
            "Chloropsis aurifrons aurifrons            0.729927\n",
            "Poecile palustris palustris               0.729927\n",
            "Ciconia ciconia ciconia                   0.729927\n",
            "Alcedo atthis atthis                      0.729927\n",
            "Eptesicus nilssonii                       0.729927\n",
            "Name: species, dtype: float64\n",
            "\n",
            "The sequence is predominantly found in the following species:\n",
            "Melopsittacus undulatus    23.357664\n",
            "Name: species, dtype: float64\n"
          ]
        }
      ]
    },
    {
      "cell_type": "code",
      "source": [
        "import matplotlib.pyplot as plt\n",
        "\n",
        "plt.figure(figsize=(10, 6))\n",
        "species_percentage[0:10].plot(kind='bar', color='skyblue')\n",
        "plt.title('Species Distribution of Sequences')\n",
        "plt.xlabel('Species')\n",
        "plt.ylabel('Percentage of Sequences')\n",
        "plt.xticks(rotation=45, ha='right')\n",
        "plt.tight_layout()\n",
        "plt.show()"
      ],
      "metadata": {
        "colab": {
          "base_uri": "https://localhost:8080/",
          "height": 607
        },
        "id": "Tgi7DJgqnCOv",
        "outputId": "3ade62a5-9efe-456f-a874-edaf1940abb0"
      },
      "execution_count": 92,
      "outputs": [
        {
          "output_type": "display_data",
          "data": {
            "text/plain": [
              "<Figure size 1000x600 with 1 Axes>"
            ],
            "image/png": "[encoded data removed]"
          },
          "metadata": {}
        }
      ]
    },
    {
      "cell_type": "markdown",
      "source": [
        "**Species-Specific Distribution of a Genomic Sequence**\n",
        "\n",
        "Our analysis reveals that a specific genomic sequence is predominantly found in Melopsittacus undulatus, also known as the budgerigar or budgie. This species-specific distribution suggests a unique genetic association or preference for Melopsittacus undulatus, highlighting potential evolutionary and functional significance.\n",
        "\n",
        "**Insight and Implications**\n",
        "\n",
        "The predominance of the sequence in budgerigars raises intriguing questions about its role in the species' physiology, behavior, and adaptation. Further investigations into the genomic and ecological context of Melopsittacus undulatus could provide valuable insights into the evolutionary dynamics and biological relevance of the identified sequence"
      ],
      "metadata": {
        "id": "IStj0WhosL77"
      }
    },
    {
      "cell_type": "code",
      "source": [],
      "metadata": {
        "id": "upTLjNpXsRNz"
      },
      "execution_count": null,
      "outputs": []
    }
  ],
  "metadata": {
    "kernelspec": {
      "display_name": "Python 3 (ipykernel)",
      "language": "python",
      "name": "python3"
    },
    "language_info": {
      "codemirror_mode": {
        "name": "ipython",
        "version": 3
      },
      "file_extension": ".py",
      "mimetype": "text/x-python",
      "name": "python",
      "nbconvert_exporter": "python",
      "pygments_lexer": "ipython3",
      "version": "3.11.3"
    },
    "colab": {
      "provenance": []
    }
  },
  "nbformat": 4,
  "nbformat_minor": 0
}